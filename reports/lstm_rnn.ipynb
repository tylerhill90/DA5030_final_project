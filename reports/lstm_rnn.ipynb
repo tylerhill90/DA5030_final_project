{
 "cells": [
  {
   "cell_type": "markdown",
   "metadata": {},
   "source": [
    "# LSTM-RNN\n",
    "\n",
    "[LSTM-RNN](https://en.wikipedia.org/wiki/Long_short-term_memory) stands for long short term memory recurrent neural network. It is a deep learning architecture of neural network that utilizes feedback connections in order to \"remember\" past states and for this reason are well suited for time series prediction tasks.\n",
    "\n",
    "My approach in this report is largely based off of [this post](https://www.section.io/engineering-education/stock-price-prediction-using-python/) on building an LSTM-RNN using daily Tesla closing price data. \n",
    "\n",
    "## Obtain data\n",
    "\n",
    "I will use the function I [developed previously](./wrangle.html) to import NVDA stock price data and limit the date to April 29th, 2022 for reproducibility and to compare RMSE with the other models in this [report](./nvda_analysis.html)."
   ]
  },
  {
   "cell_type": "code",
   "execution_count": 6,
   "metadata": {},
   "outputs": [
    {
     "data": {
      "text/html": [
       "<div>\n",
       "<style scoped>\n",
       "    .dataframe tbody tr th:only-of-type {\n",
       "        vertical-align: middle;\n",
       "    }\n",
       "\n",
       "    .dataframe tbody tr th {\n",
       "        vertical-align: top;\n",
       "    }\n",
       "\n",
       "    .dataframe thead th {\n",
       "        text-align: right;\n",
       "    }\n",
       "</style>\n",
       "<table border=\"1\" class=\"dataframe\">\n",
       "  <thead>\n",
       "    <tr style=\"text-align: right;\">\n",
       "      <th></th>\n",
       "      <th>Open</th>\n",
       "      <th>High</th>\n",
       "      <th>Low</th>\n",
       "      <th>Close</th>\n",
       "      <th>Volume</th>\n",
       "    </tr>\n",
       "    <tr>\n",
       "      <th>Date</th>\n",
       "      <th></th>\n",
       "      <th></th>\n",
       "      <th></th>\n",
       "      <th></th>\n",
       "      <th></th>\n",
       "    </tr>\n",
       "  </thead>\n",
       "  <tbody>\n",
       "    <tr>\n",
       "      <th>1999-01-22</th>\n",
       "      <td>0.401824</td>\n",
       "      <td>0.448464</td>\n",
       "      <td>0.356379</td>\n",
       "      <td>0.376709</td>\n",
       "      <td>271468800.0</td>\n",
       "    </tr>\n",
       "    <tr>\n",
       "      <th>1999-01-25</th>\n",
       "      <td>0.406607</td>\n",
       "      <td>0.420958</td>\n",
       "      <td>0.376709</td>\n",
       "      <td>0.416174</td>\n",
       "      <td>51048000.0</td>\n",
       "    </tr>\n",
       "    <tr>\n",
       "      <th>1999-01-26</th>\n",
       "      <td>0.420958</td>\n",
       "      <td>0.429329</td>\n",
       "      <td>0.377905</td>\n",
       "      <td>0.383885</td>\n",
       "      <td>34320000.0</td>\n",
       "    </tr>\n",
       "    <tr>\n",
       "      <th>1999-01-27</th>\n",
       "      <td>0.385081</td>\n",
       "      <td>0.394649</td>\n",
       "      <td>0.363554</td>\n",
       "      <td>0.382689</td>\n",
       "      <td>24436800.0</td>\n",
       "    </tr>\n",
       "    <tr>\n",
       "      <th>1999-01-28</th>\n",
       "      <td>0.382690</td>\n",
       "      <td>0.385081</td>\n",
       "      <td>0.379101</td>\n",
       "      <td>0.381494</td>\n",
       "      <td>22752000.0</td>\n",
       "    </tr>\n",
       "    <tr>\n",
       "      <th>...</th>\n",
       "      <td>...</td>\n",
       "      <td>...</td>\n",
       "      <td>...</td>\n",
       "      <td>...</td>\n",
       "      <td>...</td>\n",
       "    </tr>\n",
       "    <tr>\n",
       "      <th>2022-04-25</th>\n",
       "      <td>192.020004</td>\n",
       "      <td>199.449997</td>\n",
       "      <td>190.960007</td>\n",
       "      <td>199.020004</td>\n",
       "      <td>64156600.0</td>\n",
       "    </tr>\n",
       "    <tr>\n",
       "      <th>2022-04-26</th>\n",
       "      <td>197.179993</td>\n",
       "      <td>197.880005</td>\n",
       "      <td>186.699997</td>\n",
       "      <td>187.880005</td>\n",
       "      <td>65314300.0</td>\n",
       "    </tr>\n",
       "    <tr>\n",
       "      <th>2022-04-27</th>\n",
       "      <td>185.979996</td>\n",
       "      <td>191.669998</td>\n",
       "      <td>182.899994</td>\n",
       "      <td>184.149994</td>\n",
       "      <td>49946000.0</td>\n",
       "    </tr>\n",
       "    <tr>\n",
       "      <th>2022-04-28</th>\n",
       "      <td>189.669998</td>\n",
       "      <td>200.369995</td>\n",
       "      <td>184.899994</td>\n",
       "      <td>197.820007</td>\n",
       "      <td>57032700.0</td>\n",
       "    </tr>\n",
       "    <tr>\n",
       "      <th>2022-04-29</th>\n",
       "      <td>194.020004</td>\n",
       "      <td>201.279999</td>\n",
       "      <td>185.169998</td>\n",
       "      <td>185.470001</td>\n",
       "      <td>50001100.0</td>\n",
       "    </tr>\n",
       "  </tbody>\n",
       "</table>\n",
       "<p>5858 rows × 5 columns</p>\n",
       "</div>"
      ],
      "text/plain": [
       "                  Open        High         Low       Close       Volume\n",
       "Date                                                                   \n",
       "1999-01-22    0.401824    0.448464    0.356379    0.376709  271468800.0\n",
       "1999-01-25    0.406607    0.420958    0.376709    0.416174   51048000.0\n",
       "1999-01-26    0.420958    0.429329    0.377905    0.383885   34320000.0\n",
       "1999-01-27    0.385081    0.394649    0.363554    0.382689   24436800.0\n",
       "1999-01-28    0.382690    0.385081    0.379101    0.381494   22752000.0\n",
       "...                ...         ...         ...         ...          ...\n",
       "2022-04-25  192.020004  199.449997  190.960007  199.020004   64156600.0\n",
       "2022-04-26  197.179993  197.880005  186.699997  187.880005   65314300.0\n",
       "2022-04-27  185.979996  191.669998  182.899994  184.149994   49946000.0\n",
       "2022-04-28  189.669998  200.369995  184.899994  197.820007   57032700.0\n",
       "2022-04-29  194.020004  201.279999  185.169998  185.470001   50001100.0\n",
       "\n",
       "[5858 rows x 5 columns]"
      ]
     },
     "execution_count": 6,
     "metadata": {},
     "output_type": "execute_result"
    }
   ],
   "source": [
    "import numpy as np\n",
    "import pandas as pd\n",
    "import matplotlib.pyplot as plt\n",
    "from sklearn.preprocessing import MinMaxScaler\n",
    "from sklearn.metrics import mean_squared_error\n",
    "from keras.models import Sequential, load_model\n",
    "from keras.layers import LSTM, Dense, Dropout\n",
    "from keras.callbacks import EarlyStopping\n",
    "import keras.optimizers \n",
    "from tensorflow import keras\n",
    "import os\n",
    "import sys\n",
    "module_path = os.path.abspath(os.path.join('..'))\n",
    "if module_path not in sys.path:\n",
    "    sys.path.append(module_path)\n",
    "from python.functions import get_stonk\n",
    "\n",
    "nvda_all = get_stonk(\"nvda\")\n",
    "nvda = nvda_all[\"data\"]\n",
    "nvda = nvda[:\"2022-04-29\"]\n",
    "nvda"
   ]
  },
  {
   "cell_type": "markdown",
   "metadata": {},
   "source": [
    "## Feature engineering \n",
    "\n",
    "I will add in a column that takes the difference between the 26 and 12 day exponential weighted moving average (EWMA). The intent here is to capture information about which EWMA is above the other in a single vector.\n",
    "\n",
    "I will also add a column with the day of the week and a column with the day of the year in an attempt to capture seasonality effects."
   ]
  },
  {
   "cell_type": "code",
   "execution_count": 7,
   "metadata": {},
   "outputs": [
    {
     "name": "stderr",
     "output_type": "stream",
     "text": [
      "/tmp/ipykernel_45758/1207428108.py:1: SettingWithCopyWarning: \n",
      "A value is trying to be set on a copy of a slice from a DataFrame.\n",
      "Try using .loc[row_indexer,col_indexer] = value instead\n",
      "\n",
      "See the caveats in the documentation: https://pandas.pydata.org/pandas-docs/stable/user_guide/indexing.html#returning-a-view-versus-a-copy\n",
      "  nvda[\"ewma_diff\"] = nvda_all[\"ewma\"][\"26\"] - nvda_all[\"ewma\"][\"12\"]\n",
      "/tmp/ipykernel_45758/1207428108.py:4: SettingWithCopyWarning: \n",
      "A value is trying to be set on a copy of a slice from a DataFrame.\n",
      "Try using .loc[row_indexer,col_indexer] = value instead\n",
      "\n",
      "See the caveats in the documentation: https://pandas.pydata.org/pandas-docs/stable/user_guide/indexing.html#returning-a-view-versus-a-copy\n",
      "  nvda[\"weekday\"] = pd.to_datetime(nvda['date'].astype(str)).dt.weekday\n",
      "/tmp/ipykernel_45758/1207428108.py:5: SettingWithCopyWarning: \n",
      "A value is trying to be set on a copy of a slice from a DataFrame.\n",
      "Try using .loc[row_indexer,col_indexer] = value instead\n",
      "\n",
      "See the caveats in the documentation: https://pandas.pydata.org/pandas-docs/stable/user_guide/indexing.html#returning-a-view-versus-a-copy\n",
      "  nvda[\"year_day\"] = pd.to_datetime(nvda['date'].astype(str)).dt.day_of_year\n"
     ]
    },
    {
     "data": {
      "text/html": [
       "<div>\n",
       "<style scoped>\n",
       "    .dataframe tbody tr th:only-of-type {\n",
       "        vertical-align: middle;\n",
       "    }\n",
       "\n",
       "    .dataframe tbody tr th {\n",
       "        vertical-align: top;\n",
       "    }\n",
       "\n",
       "    .dataframe thead th {\n",
       "        text-align: right;\n",
       "    }\n",
       "</style>\n",
       "<table border=\"1\" class=\"dataframe\">\n",
       "  <thead>\n",
       "    <tr style=\"text-align: right;\">\n",
       "      <th></th>\n",
       "      <th>Open</th>\n",
       "      <th>High</th>\n",
       "      <th>Low</th>\n",
       "      <th>Close</th>\n",
       "      <th>Volume</th>\n",
       "      <th>ewma_diff</th>\n",
       "      <th>weekday</th>\n",
       "      <th>year_day</th>\n",
       "    </tr>\n",
       "    <tr>\n",
       "      <th>date</th>\n",
       "      <th></th>\n",
       "      <th></th>\n",
       "      <th></th>\n",
       "      <th></th>\n",
       "      <th></th>\n",
       "      <th></th>\n",
       "      <th></th>\n",
       "      <th></th>\n",
       "    </tr>\n",
       "  </thead>\n",
       "  <tbody>\n",
       "    <tr>\n",
       "      <th>1999-01-22</th>\n",
       "      <td>0.401824</td>\n",
       "      <td>0.448464</td>\n",
       "      <td>0.356379</td>\n",
       "      <td>0.376709</td>\n",
       "      <td>271468800.0</td>\n",
       "      <td>0.000000</td>\n",
       "      <td>4</td>\n",
       "      <td>22</td>\n",
       "    </tr>\n",
       "    <tr>\n",
       "      <th>1999-01-25</th>\n",
       "      <td>0.406607</td>\n",
       "      <td>0.420958</td>\n",
       "      <td>0.376709</td>\n",
       "      <td>0.416174</td>\n",
       "      <td>51048000.0</td>\n",
       "      <td>-0.003148</td>\n",
       "      <td>0</td>\n",
       "      <td>25</td>\n",
       "    </tr>\n",
       "    <tr>\n",
       "      <th>1999-01-26</th>\n",
       "      <td>0.420958</td>\n",
       "      <td>0.429329</td>\n",
       "      <td>0.377905</td>\n",
       "      <td>0.383885</td>\n",
       "      <td>34320000.0</td>\n",
       "      <td>-0.003003</td>\n",
       "      <td>1</td>\n",
       "      <td>26</td>\n",
       "    </tr>\n",
       "    <tr>\n",
       "      <th>1999-01-27</th>\n",
       "      <td>0.385081</td>\n",
       "      <td>0.394649</td>\n",
       "      <td>0.363554</td>\n",
       "      <td>0.382689</td>\n",
       "      <td>24436800.0</td>\n",
       "      <td>-0.002760</td>\n",
       "      <td>2</td>\n",
       "      <td>27</td>\n",
       "    </tr>\n",
       "    <tr>\n",
       "      <th>1999-01-28</th>\n",
       "      <td>0.382690</td>\n",
       "      <td>0.385081</td>\n",
       "      <td>0.379101</td>\n",
       "      <td>0.381494</td>\n",
       "      <td>22752000.0</td>\n",
       "      <td>-0.002442</td>\n",
       "      <td>3</td>\n",
       "      <td>28</td>\n",
       "    </tr>\n",
       "    <tr>\n",
       "      <th>...</th>\n",
       "      <td>...</td>\n",
       "      <td>...</td>\n",
       "      <td>...</td>\n",
       "      <td>...</td>\n",
       "      <td>...</td>\n",
       "      <td>...</td>\n",
       "      <td>...</td>\n",
       "      <td>...</td>\n",
       "    </tr>\n",
       "    <tr>\n",
       "      <th>2022-04-25</th>\n",
       "      <td>192.020004</td>\n",
       "      <td>199.449997</td>\n",
       "      <td>190.960007</td>\n",
       "      <td>199.020004</td>\n",
       "      <td>64156600.0</td>\n",
       "      <td>13.634018</td>\n",
       "      <td>0</td>\n",
       "      <td>115</td>\n",
       "    </tr>\n",
       "    <tr>\n",
       "      <th>2022-04-26</th>\n",
       "      <td>197.179993</td>\n",
       "      <td>197.880005</td>\n",
       "      <td>186.699997</td>\n",
       "      <td>187.880005</td>\n",
       "      <td>65314300.0</td>\n",
       "      <td>14.964651</td>\n",
       "      <td>1</td>\n",
       "      <td>116</td>\n",
       "    </tr>\n",
       "    <tr>\n",
       "      <th>2022-04-27</th>\n",
       "      <td>185.979996</td>\n",
       "      <td>191.669998</td>\n",
       "      <td>182.899994</td>\n",
       "      <td>184.149994</td>\n",
       "      <td>49946000.0</td>\n",
       "      <td>16.134183</td>\n",
       "      <td>2</td>\n",
       "      <td>117</td>\n",
       "    </tr>\n",
       "    <tr>\n",
       "      <th>2022-04-28</th>\n",
       "      <td>189.669998</td>\n",
       "      <td>200.369995</td>\n",
       "      <td>184.899994</td>\n",
       "      <td>197.820007</td>\n",
       "      <td>57032700.0</td>\n",
       "      <td>15.776132</td>\n",
       "      <td>3</td>\n",
       "      <td>118</td>\n",
       "    </tr>\n",
       "    <tr>\n",
       "      <th>2022-04-29</th>\n",
       "      <td>194.020004</td>\n",
       "      <td>201.279999</td>\n",
       "      <td>185.169998</td>\n",
       "      <td>185.470001</td>\n",
       "      <td>50001100.0</td>\n",
       "      <td>16.301009</td>\n",
       "      <td>4</td>\n",
       "      <td>119</td>\n",
       "    </tr>\n",
       "  </tbody>\n",
       "</table>\n",
       "<p>5858 rows × 8 columns</p>\n",
       "</div>"
      ],
      "text/plain": [
       "                  Open        High         Low       Close       Volume  \\\n",
       "date                                                                      \n",
       "1999-01-22    0.401824    0.448464    0.356379    0.376709  271468800.0   \n",
       "1999-01-25    0.406607    0.420958    0.376709    0.416174   51048000.0   \n",
       "1999-01-26    0.420958    0.429329    0.377905    0.383885   34320000.0   \n",
       "1999-01-27    0.385081    0.394649    0.363554    0.382689   24436800.0   \n",
       "1999-01-28    0.382690    0.385081    0.379101    0.381494   22752000.0   \n",
       "...                ...         ...         ...         ...          ...   \n",
       "2022-04-25  192.020004  199.449997  190.960007  199.020004   64156600.0   \n",
       "2022-04-26  197.179993  197.880005  186.699997  187.880005   65314300.0   \n",
       "2022-04-27  185.979996  191.669998  182.899994  184.149994   49946000.0   \n",
       "2022-04-28  189.669998  200.369995  184.899994  197.820007   57032700.0   \n",
       "2022-04-29  194.020004  201.279999  185.169998  185.470001   50001100.0   \n",
       "\n",
       "            ewma_diff  weekday  year_day  \n",
       "date                                      \n",
       "1999-01-22   0.000000        4        22  \n",
       "1999-01-25  -0.003148        0        25  \n",
       "1999-01-26  -0.003003        1        26  \n",
       "1999-01-27  -0.002760        2        27  \n",
       "1999-01-28  -0.002442        3        28  \n",
       "...               ...      ...       ...  \n",
       "2022-04-25  13.634018        0       115  \n",
       "2022-04-26  14.964651        1       116  \n",
       "2022-04-27  16.134183        2       117  \n",
       "2022-04-28  15.776132        3       118  \n",
       "2022-04-29  16.301009        4       119  \n",
       "\n",
       "[5858 rows x 8 columns]"
      ]
     },
     "execution_count": 7,
     "metadata": {},
     "output_type": "execute_result"
    }
   ],
   "source": [
    "nvda[\"ewma_diff\"] = nvda_all[\"ewma\"][\"26\"] - nvda_all[\"ewma\"][\"12\"]\n",
    "nvda.index.name = \"date\"\n",
    "nvda.reset_index(inplace=True)\n",
    "nvda[\"weekday\"] = pd.to_datetime(nvda['date'].astype(str)).dt.weekday\n",
    "nvda[\"year_day\"] = pd.to_datetime(nvda['date'].astype(str)).dt.day_of_year\n",
    "nvda = nvda.set_index([\"date\"])\n",
    "nvda"
   ]
  },
  {
   "cell_type": "markdown",
   "metadata": {},
   "source": [
    "## Split the data\n",
    "\n",
    "I will now split the data into train/validate/test sets in a 70/20/10 percentage split respectively."
   ]
  },
  {
   "cell_type": "code",
   "execution_count": 8,
   "metadata": {},
   "outputs": [
    {
     "name": "stdout",
     "output_type": "stream",
     "text": [
      "Train:\t\t4101\n",
      "Validate:\t1170\n",
      "Test:\t\t585\n"
     ]
    }
   ],
   "source": [
    "train = nvda[:round(len(nvda)*0.7)]\n",
    "validate = nvda[round(len(nvda)*0.7)+1:round(len(nvda)*0.9)]\n",
    "test = nvda[round(len(nvda)*0.9)+1:]\n",
    "print(f\"Train:\\t\\t{len(train)}\\nValidate:\\t{len(validate)}\\nTest:\\t\\t{len(test)}\")"
   ]
  },
  {
   "cell_type": "markdown",
   "metadata": {},
   "source": [
    "## Normalization\n",
    "\n",
    "The data must be min/max normalized in order for the neural network to appropriately interpret signal."
   ]
  },
  {
   "cell_type": "code",
   "execution_count": 9,
   "metadata": {},
   "outputs": [
    {
     "data": {
      "text/plain": [
       "array([[0.00925344, 0.01388951, 0.00589839, 0.00723082, 0.29258023,\n",
       "        0.4578529 , 1.        , 0.05494505],\n",
       "       [0.00979772, 0.01075754, 0.00828577, 0.01173309, 0.0532831 ,\n",
       "        0.45519503, 0.        , 0.06318681],\n",
       "       [0.01143069, 0.0117108 , 0.00842621, 0.00804947, 0.03512255,\n",
       "        0.45531753, 0.25      , 0.06593407]])"
      ]
     },
     "execution_count": 9,
     "metadata": {},
     "output_type": "execute_result"
    }
   ],
   "source": [
    "scaler = MinMaxScaler(feature_range=(0,1))\n",
    "train = scaler.fit_transform(train)\n",
    "validate = scaler.fit_transform(validate)\n",
    "test = scaler.fit_transform(test)\n",
    "train[:3]"
   ]
  },
  {
   "cell_type": "markdown",
   "metadata": {},
   "source": [
    "Great, now let's create a helper function that will build slices of our data and save the target as a vector for training."
   ]
  },
  {
   "cell_type": "code",
   "execution_count": 10,
   "metadata": {},
   "outputs": [],
   "source": [
    "def create_dataset(df, win=30, t=5, tar_col=3):\n",
    "    x, y = [], []\n",
    "    for i in range(win, df.shape[0]):\n",
    "        if i < df.shape[0]-t:\n",
    "            x.append(df[i-win:i, :])\n",
    "            y.append(df[i+t, tar_col])\n",
    "    x, y = np.array(x), np.array(y)\n",
    "    return x,y"
   ]
  },
  {
   "cell_type": "markdown",
   "metadata": {},
   "source": [
    "Let's use this function to slice up our train, validate, and test sets."
   ]
  },
  {
   "cell_type": "code",
   "execution_count": 11,
   "metadata": {},
   "outputs": [
    {
     "name": "stdout",
     "output_type": "stream",
     "text": [
      "Train:\t\tinput (4066, 30, 8)\ttarget (4066,)\n",
      "Validate:\tinput (1135, 30, 8)\ttarget (1135,)\n",
      "Test:\t\tinput (550, 30, 8)\ttarget (550,)\n"
     ]
    }
   ],
   "source": [
    "x_train, y_train = create_dataset(train)\n",
    "x_validate, y_validate = create_dataset(validate)\n",
    "x_test, y_test = create_dataset(test)\n",
    "print(f\"Train:\\t\\tinput {x_train.shape}\\ttarget {y_train.shape}\")\n",
    "print(f\"Validate:\\tinput {x_validate.shape}\\ttarget {y_validate.shape}\")\n",
    "print(f\"Test:\\t\\tinput {x_test.shape}\\ttarget {y_test.shape}\")"
   ]
  },
  {
   "cell_type": "markdown",
   "metadata": {},
   "source": [
    "From the ouput above it looks like we have the data in the correct shape for the LSTM model to ingest.\n",
    "\n",
    "## Build the LSTM-RNN model\n",
    "\n",
    "We will now build the model. This model will be composed of four LSTM layers, each followed by a 20% dropout layer to reduce complexity between layers and help prevent overfitting. The output neuron is a single dense layer since we are just trying to predict the single closing price five days later.\n",
    "\n",
    "The model will use MSE as its loss function, [Adam](https://machinelearningmastery.com/adam-optimization-algorithm-for-deep-learning/) as its optimization function, and will use the default learning rate of 0.01.\n",
    "\n",
    "But first I will set random seeds so that my LSTM experiments are reproducible. My approach is based off of this [link](https://odsc.medium.com/properly-setting-the-random-seed-in-ml-experiments-not-as-simple-as-you-might-imagine-219969c84752)."
   ]
  },
  {
   "cell_type": "code",
   "execution_count": 12,
   "metadata": {},
   "outputs": [],
   "source": [
    "# Set a seed value\n",
    "seed_value= 12321 \n",
    "\n",
    "# 1. Set `PYTHONHASHSEED` environment variable at a fixed value\n",
    "os.environ['PYTHONHASHSEED']=str(seed_value)\n",
    "\n",
    "# 2. Set `python` built-in pseudo-random generator at a fixed value\n",
    "import random\n",
    "random.seed(seed_value)\n",
    "\n",
    "# 3. Set `numpy` pseudo-random generator at a fixed value\n",
    "np.random.seed(seed_value)\n",
    "\n",
    "# 4. Set `tensorflow` pseudo-random generator at a fixed value\n",
    "import tensorflow as tf\n",
    "tf.random.set_seed(seed_value)\n",
    "\n",
    "# 5. For layers that introduce randomness like dropout, make sure to set seed values \n",
    "\n",
    "#6 Configure a new global `tensorflow` session\n",
    "from keras import backend as K\n",
    "session_conf = tf.compat.v1.ConfigProto(intra_op_parallelism_threads=1, inter_op_parallelism_threads=1)\n",
    "sess = tf.compat.v1.Session(graph=tf.compat.v1.get_default_graph(), config=session_conf)\n",
    "K.set_session(sess)"
   ]
  },
  {
   "cell_type": "markdown",
   "metadata": {},
   "source": [
    "Now let's compile the model."
   ]
  },
  {
   "cell_type": "code",
   "execution_count": 13,
   "metadata": {},
   "outputs": [
    {
     "data": {
      "text/plain": [
       "<keras.engine.sequential.Sequential at 0x7f3f8c6860d0>"
      ]
     },
     "execution_count": 13,
     "metadata": {},
     "output_type": "execute_result"
    }
   ],
   "source": [
    "model = Sequential()\n",
    "model.add(LSTM(units=96, return_sequences=True, input_shape=(x_train.shape[1], nvda.shape[1])))\n",
    "model.add(Dropout(0.2, seed=seed_value))\n",
    "model.add(LSTM(units=96, return_sequences=True))\n",
    "model.add(Dropout(0.2, seed=seed_value))\n",
    "model.add(LSTM(units=96, return_sequences=True))\n",
    "model.add(Dropout(0.2, seed=seed_value))\n",
    "model.add(LSTM(units=96))\n",
    "model.add(Dropout(0.2, seed=seed_value))\n",
    "model.add(Dense(units=1))\n",
    "model.compile(loss='mean_squared_error', optimizer='adam')\n",
    "model"
   ]
  },
  {
   "cell_type": "markdown",
   "metadata": {},
   "source": [
    "With the model now compiled we can fit the model on our training data. I will train for 30 epochs using a [batch size](https://deeplizard.com/learn/video/U4WB9p6ODjM) of 32. I will set shuffle to false as we do not want to shuffle the data because we should maintain the sequential nature of the data."
   ]
  },
  {
   "cell_type": "code",
   "execution_count": null,
   "metadata": {},
   "outputs": [],
   "source": [
    "first_fit = model.fit(x_train, y_train, epochs=30, batch_size=32, validation_data=(x_validate, y_validate), shuffle=False)\n",
    "model.save(\"./lstm_models/nvda_adam_e30_b32.h5\")"
   ]
  },
  {
   "cell_type": "markdown",
   "metadata": {},
   "source": [
    "The loss seems to have stabilized well during training. Now that the model is fit let's make some predictions on the validate set and plot them against the actual price."
   ]
  },
  {
   "cell_type": "code",
   "execution_count": 14,
   "metadata": {},
   "outputs": [
    {
     "data": {
      "image/png": "[encoded data removed]",
      "text/plain": [
       "<Figure size 1152x576 with 1 Axes>"
      ]
     },
     "metadata": {
      "needs_background": "light"
     },
     "output_type": "display_data"
    }
   ],
   "source": [
    "model = load_model(\"./lstm_models/nvda_adam_e30_b32.h5\")\n",
    "predictions = model.predict(x_validate)\n",
    "validate_pred_2d = np.zeros(shape=(len(predictions), nvda.shape[1]))\n",
    "validate_pred_2d[:,0] = predictions[:,0]\n",
    "predictions = scaler.inverse_transform(validate_pred_2d)[:,0]\n",
    "\n",
    "y_validate_2d = np.zeros(shape=(len(y_validate), nvda.shape[1]))\n",
    "y_validate_2d[:,0] = y_validate\n",
    "y_validate_scaled = scaler.inverse_transform(y_validate_2d)[:,0]\n",
    "\n",
    "rmse = mean_squared_error(y_validate_scaled, predictions, squared=False)\n",
    "\n",
    "fig, ax = plt.subplots(figsize=(16,8))\n",
    "ax.set_facecolor('#000041')\n",
    "ax.plot(y_validate_scaled, color='red', label='Actual price')\n",
    "plt.plot(predictions, color='cyan', label='Predicted price')\n",
    "plt.title(f\"Predictions versus actual - 32 batch size - 1st fit - RMSE: {rmse}\")\n",
    "plt.legend()\n",
    "plt.show()"
   ]
  },
  {
   "cell_type": "markdown",
   "metadata": {},
   "source": [
    "It looks like our first pass at fitting our model did pretty well. It sometime tracks the actual price but also does dramatically diverge at times.\n",
    "\n",
    "In order to diagnose how our model fit is I will make a plot showing training loss versus validation loss. See this [link](https://machinelearningmastery.com/diagnose-overfitting-underfitting-lstm-models/) for more about these plots."
   ]
  },
  {
   "cell_type": "code",
   "execution_count": 15,
   "metadata": {},
   "outputs": [
    {
     "ename": "NameError",
     "evalue": "name 'first_fit' is not defined",
     "output_type": "error",
     "traceback": [
      "\u001b[0;31m---------------------------------------------------------------------------\u001b[0m",
      "\u001b[0;31mNameError\u001b[0m                                 Traceback (most recent call last)",
      "\u001b[1;32m/home/tyler/school/DA5030/final/reports/lstm_rnn.ipynb Cell 22'\u001b[0m in \u001b[0;36m<cell line: 2>\u001b[0;34m()\u001b[0m\n\u001b[1;32m      <a href='vscode-notebook-cell:/home/tyler/school/DA5030/final/reports/lstm_rnn.ipynb#ch0000021?line=0'>1</a>\u001b[0m fig, ax \u001b[39m=\u001b[39m plt\u001b[39m.\u001b[39msubplots(figsize\u001b[39m=\u001b[39m(\u001b[39m12\u001b[39m,\u001b[39m8\u001b[39m))\n\u001b[0;32m----> <a href='vscode-notebook-cell:/home/tyler/school/DA5030/final/reports/lstm_rnn.ipynb#ch0000021?line=1'>2</a>\u001b[0m plt\u001b[39m.\u001b[39mplot(first_fit\u001b[39m.\u001b[39mhistory[\u001b[39m'\u001b[39m\u001b[39mloss\u001b[39m\u001b[39m'\u001b[39m], label\u001b[39m=\u001b[39m\u001b[39m'\u001b[39m\u001b[39mtrain\u001b[39m\u001b[39m'\u001b[39m)\n\u001b[1;32m      <a href='vscode-notebook-cell:/home/tyler/school/DA5030/final/reports/lstm_rnn.ipynb#ch0000021?line=2'>3</a>\u001b[0m plt\u001b[39m.\u001b[39mplot(first_fit\u001b[39m.\u001b[39mhistory[\u001b[39m'\u001b[39m\u001b[39mval_loss\u001b[39m\u001b[39m'\u001b[39m], label\u001b[39m=\u001b[39m\u001b[39m'\u001b[39m\u001b[39mvalidate\u001b[39m\u001b[39m'\u001b[39m)\n\u001b[1;32m      <a href='vscode-notebook-cell:/home/tyler/school/DA5030/final/reports/lstm_rnn.ipynb#ch0000021?line=3'>4</a>\u001b[0m plt\u001b[39m.\u001b[39mlegend()\n",
      "\u001b[0;31mNameError\u001b[0m: name 'first_fit' is not defined"
     ]
    },
    {
     "data": {
      "image/png": "[encoded data removed]",
      "text/plain": [
       "<Figure size 864x576 with 1 Axes>"
      ]
     },
     "metadata": {
      "needs_background": "light"
     },
     "output_type": "display_data"
    }
   ],
   "source": [
    "fig, ax = plt.subplots(figsize=(12,8))\n",
    "plt.plot(first_fit.history['loss'], label='train')\n",
    "plt.plot(first_fit.history['val_loss'], label='validate')\n",
    "plt.legend()\n",
    "plt.show()"
   ]
  },
  {
   "cell_type": "markdown",
   "metadata": {},
   "source": [
    "This is pretty good looking plot as the training loss stays below the validation and both decay over time less.\n",
    "\n",
    "Let's fit another but I will increase the batch size to 64."
   ]
  },
  {
   "cell_type": "code",
   "execution_count": null,
   "metadata": {},
   "outputs": [],
   "source": [
    "second_fit = model.fit(x_train, y_train, epochs=30, batch_size=64, validation_data=(x_validate, y_validate), shuffle=False)\n",
    "\n",
    "model.save(\"./lstm_models/nvda_adam_e30_b64.h5\")"
   ]
  },
  {
   "cell_type": "code",
   "execution_count": null,
   "metadata": {},
   "outputs": [],
   "source": [
    "model = load_model(\"./lstm_models/nvda_adam_e30_b64.h5\")\n",
    "\n",
    "predictions = model.predict(x_validate)\n",
    "validate_pred_2d = np.zeros(shape=(len(predictions), nvda.shape[1]))\n",
    "validate_pred_2d[:,0] = predictions[:,0]\n",
    "predictions = scaler.inverse_transform(validate_pred_2d)[:,0]\n",
    "\n",
    "y_validate_2d = np.zeros(shape=(len(y_validate), nvda.shape[1]))\n",
    "y_validate_2d[:,0] = y_validate\n",
    "y_validate_scaled = scaler.inverse_transform(y_validate_2d)[:,0]\n",
    "\n",
    "rmse = mean_squared_error(y_validate_scaled, predictions, squared=False)\n",
    "\n",
    "fig, ax = plt.subplots(figsize=(16,8))\n",
    "ax.set_facecolor('#000041')\n",
    "ax.plot(y_validate_scaled, color='red', label='Actual price')\n",
    "plt.plot(predictions, color='cyan', label='Predicted price')\n",
    "plt.title(f\"Predictions versus actual - 64 batch size - 2nd fit - RMSE: {rmse}\")\n",
    "plt.legend()"
   ]
  },
  {
   "cell_type": "markdown",
   "metadata": {},
   "source": [
    "That seemed to not have that much of a dramatic effect."
   ]
  },
  {
   "cell_type": "code",
   "execution_count": null,
   "metadata": {},
   "outputs": [],
   "source": [
    "fig, ax = plt.subplots(figsize=(12,8))\n",
    "plt.plot(second_fit.history['loss'], label='train')\n",
    "plt.plot(second_fit.history['val_loss'], label='validate')\n",
    "plt.legend()\n",
    "plt.show()"
   ]
  },
  {
   "cell_type": "markdown",
   "metadata": {},
   "source": [
    "This loss comparison plot is not as clean as our first fit as it is more stochastic over time. \n",
    "\n",
    "Let's make another model and this time reduce the batch size to 16."
   ]
  },
  {
   "cell_type": "code",
   "execution_count": null,
   "metadata": {},
   "outputs": [],
   "source": [
    "third_fit = model.fit(x_train, y_train, epochs=30, batch_size=16, validation_data=(x_validate, y_validate), shuffle=False)\n",
    "model.save(\"./lstm_models/nvda_adam_e30_b16.h5\")"
   ]
  },
  {
   "cell_type": "code",
   "execution_count": null,
   "metadata": {},
   "outputs": [],
   "source": [
    "model = load_model(\"./lstm_models/nvda_adam_e30_b16.h5\")\n",
    "predictions = model.predict(x_validate)\n",
    "validate_pred_2d = np.zeros(shape=(len(predictions), nvda.shape[1]))\n",
    "validate_pred_2d[:,0] = predictions[:,0]\n",
    "predictions = scaler.inverse_transform(validate_pred_2d)[:,0]\n",
    "\n",
    "y_validate_2d = np.zeros(shape=(len(y_validate), nvda.shape[1]))\n",
    "y_validate_2d[:,0] = y_validate\n",
    "y_validate_scaled = scaler.inverse_transform(y_validate_2d)[:,0]\n",
    "\n",
    "rmse = mean_squared_error(y_validate_scaled, predictions, squared=False)\n",
    "\n",
    "fig, ax = plt.subplots(figsize=(16,8))\n",
    "ax.set_facecolor('#000041')\n",
    "ax.plot(y_validate_scaled, color='red', label='Actual price')\n",
    "plt.plot(predictions, color='cyan', label='Predicted price')\n",
    "plt.title(f\"Predictions versus actual - 16 batch size - 3rd fit - RMSE: {rmse}\")\n",
    "plt.legend()"
   ]
  },
  {
   "cell_type": "markdown",
   "metadata": {},
   "source": [
    "Look like a batch size of 16 makes for a worse fit as the RMSE increased substantially."
   ]
  },
  {
   "cell_type": "code",
   "execution_count": null,
   "metadata": {},
   "outputs": [],
   "source": [
    "fig, ax = plt.subplots(figsize=(12,8))\n",
    "plt.plot(third_fit.history['loss'], label='train')\n",
    "plt.plot(third_fit.history['val_loss'], label='validate')\n",
    "plt.legend()\n",
    "plt.show()"
   ]
  },
  {
   "cell_type": "markdown",
   "metadata": {},
   "source": [
    "The loss plot is garbage.\n",
    "\n",
    "Let's fit another model and use the Adamax optimization function with a batch size of 64. According to the [documentation](https://keras.io/api/optimizers/adamax/), \"Adamax is sometimes superior to adam, specially in models with embeddings.\" Seeing as we have both days of week and year embedded this may help."
   ]
  },
  {
   "cell_type": "code",
   "execution_count": null,
   "metadata": {},
   "outputs": [],
   "source": [
    "model = Sequential()\n",
    "model.add(LSTM(units=96, return_sequences=True, input_shape=(x_train.shape[1], nvda.shape[1])))\n",
    "model.add(Dropout(0.2, seed=seed_value))\n",
    "model.add(LSTM(units=96, return_sequences=True))\n",
    "model.add(Dropout(0.2, seed=seed_value))\n",
    "model.add(LSTM(units=96, return_sequences=True))\n",
    "model.add(Dropout(0.2, seed=seed_value))\n",
    "model.add(LSTM(units=96))\n",
    "model.add(Dropout(0.2, seed=seed_value))\n",
    "model.add(Dense(units=1))\n",
    "\n",
    "model.compile(loss='mean_squared_error', optimizer=keras.optimizers.Adamax())\n",
    "\n",
    "fourth_fit = model.fit(x_train, y_train, epochs=30, batch_size=64, validation_data=(x_validate, y_validate), shuffle=False)\n",
    "model.save(\"./lstm_models/nvda_adamax_e30_b64.h5\")"
   ]
  },
  {
   "cell_type": "code",
   "execution_count": null,
   "metadata": {},
   "outputs": [],
   "source": [
    "model = load_model(\"./lstm_models/nvda_adamax_e30_b64.h5\")\n",
    "predictions = model.predict(x_validate)\n",
    "validate_pred_2d = np.zeros(shape=(len(predictions), nvda.shape[1]))\n",
    "validate_pred_2d[:,0] = predictions[:,0]\n",
    "predictions = scaler.inverse_transform(validate_pred_2d)[:,0]\n",
    "\n",
    "y_validate_2d = np.zeros(shape=(len(y_validate), nvda.shape[1]))\n",
    "y_validate_2d[:,0] = y_validate\n",
    "y_validate_scaled = scaler.inverse_transform(y_validate_2d)[:,0]\n",
    "\n",
    "rmse = mean_squared_error(y_validate_scaled, predictions, squared=False)\n",
    "\n",
    "fig, ax = plt.subplots(figsize=(16,8))\n",
    "ax.set_facecolor('#000041')\n",
    "ax.plot(y_validate_scaled, color='red', label='Actual price')\n",
    "plt.plot(predictions, color='cyan', label='Predicted price')\n",
    "plt.title(f\"Predictions versus actual - Adamax optimizer - 4th fit - RMSE: {rmse}\")\n",
    "plt.legend()"
   ]
  },
  {
   "cell_type": "markdown",
   "metadata": {},
   "source": [
    "This is a pretty good fit with low RMSE and we don't see as much random divergence from the actual price. "
   ]
  },
  {
   "cell_type": "code",
   "execution_count": null,
   "metadata": {},
   "outputs": [],
   "source": [
    "fig, ax = plt.subplots(figsize=(12,8))\n",
    "plt.plot(fourth_fit.history['loss'], label='train')\n",
    "plt.plot(fourth_fit.history['val_loss'], label='validate')\n",
    "plt.legend()\n",
    "plt.show()"
   ]
  },
  {
   "cell_type": "markdown",
   "metadata": {},
   "source": [
    "This loss comparison plot is troublesome however. Seeing as the train loss dips below the validation loss we might have a case of overfitting.\n",
    "\n",
    "Let's explore whether I am experiencing the curse of dimensionality by reducing the number of features in the model to only those I think are the most descriptive."
   ]
  },
  {
   "cell_type": "code",
   "execution_count": null,
   "metadata": {},
   "outputs": [],
   "source": [
    "nvda_less = nvda[[\"Open\", \"High\", \"Low\", \"Close\", \"ewma_diff\", \"year_day\"]]\n",
    "\n",
    "train = nvda_less[:round(len(nvda_less)*0.7)]\n",
    "validate = nvda_less[round(len(nvda)*0.7)+1:round(len(nvda_less)*0.9)]\n",
    "test = nvda_less[round(len(nvda_less)*0.9)+1:]\n",
    "\n",
    "scaler = MinMaxScaler(feature_range=(0,1))\n",
    "train = scaler.fit_transform(train)\n",
    "validate = scaler.fit_transform(validate)\n",
    "test = scaler.fit_transform(test)\n",
    "\n",
    "x_train, y_train = create_dataset(train)\n",
    "x_validate, y_validate = create_dataset(validate)\n",
    "x_test, y_test = create_dataset(test)\n",
    "print(f\"Train:\\t\\tinput {x_train.shape}\\ttarget {y_train.shape}\")\n",
    "print(f\"Validate:\\tinput {x_validate.shape}\\ttarget {y_validate.shape}\")\n",
    "print(f\"Test:\\t\\tinput {x_test.shape}\\ttarget {y_test.shape}\")"
   ]
  },
  {
   "cell_type": "markdown",
   "metadata": {},
   "source": [
    "With fewer features we will hopefully not over fit to the data as much. I will also progressively increase the dropout rate in each LSTM layer as another way to hopefully prevent over fitting."
   ]
  },
  {
   "cell_type": "code",
   "execution_count": null,
   "metadata": {},
   "outputs": [],
   "source": [
    "model = Sequential()\n",
    "model.add(LSTM(units=96, return_sequences=True, input_shape=(x_train.shape[1], nvda_less.shape[1])))\n",
    "model.add(Dropout(0.2, seed=seed_value))\n",
    "model.add(LSTM(units=96, return_sequences=True))\n",
    "model.add(Dropout(0.3, seed=seed_value))\n",
    "model.add(LSTM(units=96, return_sequences=True))\n",
    "model.add(Dropout(0.4, seed=seed_value))\n",
    "model.add(LSTM(units=96))\n",
    "model.add(Dropout(0.5, seed=seed_value))\n",
    "model.add(Dense(units=1))\n",
    "\n",
    "model.compile(loss='mean_squared_error', optimizer=keras.optimizers.Adamax())\n",
    "\n",
    "fifth_fit = model.fit(x_train, y_train, epochs=30, batch_size=64, validation_data=(x_validate, y_validate), shuffle=False)\n",
    "model.save(\"./lstm_models/nvda_less_adamax_e30_b64.h5\")"
   ]
  },
  {
   "cell_type": "code",
   "execution_count": null,
   "metadata": {},
   "outputs": [],
   "source": [
    "model = load_model(\"./lstm_models/nvda_less_adamax_e30_b64.h5\")\n",
    "predictions = model.predict(x_validate)\n",
    "validate_pred_2d = np.zeros(shape=(len(predictions), nvda_less.shape[1]))\n",
    "validate_pred_2d[:,0] = predictions[:,0]\n",
    "predictions = scaler.inverse_transform(validate_pred_2d)[:,0]\n",
    "\n",
    "y_validate_2d = np.zeros(shape=(len(y_validate), nvda_less.shape[1]))\n",
    "y_validate_2d[:,0] = y_validate\n",
    "y_validate_scaled = scaler.inverse_transform(y_validate_2d)[:,0]\n",
    "\n",
    "rmse = mean_squared_error(y_validate_scaled, predictions, squared=False)\n",
    "\n",
    "fig, ax = plt.subplots(figsize=(16,8))\n",
    "ax.set_facecolor('#000041')\n",
    "ax.plot(y_validate_scaled, color='red', label='Actual price')\n",
    "plt.plot(predictions, color='cyan', label='Predicted price')\n",
    "plt.title(f\"Predictions versus actual - less data - 5th fit - RMSE: {rmse}\")\n",
    "plt.legend()"
   ]
  },
  {
   "cell_type": "markdown",
   "metadata": {},
   "source": [
    "It looks like the fit has improved by using less features."
   ]
  },
  {
   "cell_type": "code",
   "execution_count": null,
   "metadata": {},
   "outputs": [],
   "source": [
    "fig, ax = plt.subplots(figsize=(12,8))\n",
    "plt.plot(fifth_fit.history['loss'], label='train')\n",
    "plt.plot(fifth_fit.history['val_loss'], label='validate')\n",
    "plt.legend()\n",
    "plt.show()"
   ]
  },
  {
   "cell_type": "markdown",
   "metadata": {},
   "source": [
    "The training loss dips below the validate loss briefly which is not optimal as it could indicate overfitting.\n",
    "\n",
    "I will fit one more model using 500 epochs but employ [early stopping](https://machinelearningmastery.com/how-to-stop-training-deep-neural-networks-at-the-right-time-using-early-stopping/) to exit training when model performance stops improving. This is another method to help reduce overfitting."
   ]
  },
  {
   "cell_type": "code",
   "execution_count": null,
   "metadata": {},
   "outputs": [],
   "source": [
    "es = EarlyStopping(monitor='val_loss', mode='min', patience=10, verbose=1)\n",
    "\n",
    "sixth_fit = model.fit(x_train, y_train, epochs=500, batch_size=64, validation_data=(x_validate, y_validate), shuffle=False, callbacks=[es])\n",
    "model.save(\"./lstm_models/nvda_less_adamax_ES_b64.h5\")"
   ]
  },
  {
   "cell_type": "code",
   "execution_count": null,
   "metadata": {},
   "outputs": [],
   "source": [
    "model = load_model(\"./lstm_models/nvda_less_adamax_ES_b64.h5\")\n",
    "predictions = model.predict(x_validate)\n",
    "validate_pred_2d = np.zeros(shape=(len(predictions), nvda_less.shape[1]))\n",
    "validate_pred_2d[:,0] = predictions[:,0]\n",
    "predictions = scaler.inverse_transform(validate_pred_2d)[:,0]\n",
    "\n",
    "y_validate_2d = np.zeros(shape=(len(y_validate), nvda_less.shape[1]))\n",
    "y_validate_2d[:,0] = y_validate\n",
    "y_validate_scaled = scaler.inverse_transform(y_validate_2d)[:,0]\n",
    "\n",
    "rmse = mean_squared_error(y_validate_scaled, predictions, squared=False)\n",
    "\n",
    "fig, ax = plt.subplots(figsize=(16,8))\n",
    "ax.set_facecolor('#000041')\n",
    "ax.plot(y_validate_scaled, color='red', label='Actual price')\n",
    "plt.plot(predictions, color='cyan', label='Predicted price')\n",
    "plt.title(f\"Predictions versus actual - less data & early stop - 6th fit - RMSE: {rmse}\")\n",
    "plt.legend()"
   ]
  },
  {
   "cell_type": "markdown",
   "metadata": {},
   "source": [
    "These fit improves when early stopping is applied."
   ]
  },
  {
   "cell_type": "code",
   "execution_count": null,
   "metadata": {},
   "outputs": [],
   "source": [
    "fig, ax = plt.subplots(figsize=(12,8))\n",
    "plt.plot(sixth_fit.history['loss'], label='train')\n",
    "plt.plot(sixth_fit.history['val_loss'], label='validate')\n",
    "plt.legend()\n",
    "plt.show()"
   ]
  },
  {
   "cell_type": "markdown",
   "metadata": {},
   "source": [
    "The loss plot jumps around and the training loss does dip below validation loss.\n",
    "\n",
    "Let's end the analysis by building an ensemble model."
   ]
  },
  {
   "cell_type": "code",
   "execution_count": null,
   "metadata": {},
   "outputs": [],
   "source": [
    "def ensemble_lstm(data):\n",
    "    predictions = list()\n",
    "    nvda_less_adamax_ES_b32 = load_model(\"./lstm_models/nvda_less_adamax_ES_b64.h5\")\n",
    "    nvda_less_adamax_e30_b64 = load_model(\"./lstm_models/nvda_less_adamax_e30_b64.h5\")\n",
    "    models = [nvda_less_adamax_ES_b32, nvda_less_adamax_e30_b64]\n",
    "    for model in models:\n",
    "        pred = model.predict(data)\n",
    "        pred_2d = np.zeros(shape=(len(pred), nvda_less.shape[1]))\n",
    "        pred_2d[:,0] = pred[:,0]\n",
    "        predictions.append(scaler.inverse_transform(pred_2d)[:,0])\n",
    "\n",
    "    return sum(predictions) / len(predictions)\n",
    "\n",
    "preds = ensemble_lstm(x_validate)\n",
    "\n",
    "rmse = mean_squared_error(y_validate_scaled, preds, squared=False)\n",
    "\n",
    "fig, ax = plt.subplots(figsize=(16,8))\n",
    "ax.set_facecolor('#000041')\n",
    "ax.plot(y_validate_scaled, color='red', label='Actual price')\n",
    "plt.plot(preds, color='cyan', label='Predicted price')\n",
    "plt.title(f\"Comparing predictions to actual - ensemble - RMSE: {rmse}\")\n",
    "plt.legend()"
   ]
  },
  {
   "cell_type": "markdown",
   "metadata": {},
   "source": [
    "I will use this ensemble of LSTM models in my final ensemble model which I analyze in the [Nvidia analysis](./nvda_analysis.html) report.\n",
    "\n",
    "## Conclusion\n",
    "\n",
    "I think that this model does not perform well enough to be confident using it effectively in any options trading strategy. With more time it could perhaps be incrementally improved upon but I would guess that taking a step back and re-examining the problem to approach it from a different angle might be better. Perhaps I could add in other features that provide other insight for the model and/or change the model architecture to be more appropriate."
   ]
  }
 ],
 "metadata": {
  "interpreter": {
   "hash": "393feb4e2cd3ea9e9fd8fa040add564d0b314520980fe3f9e53f4a764f252fca"
  },
  "kernelspec": {
   "display_name": "Python 3.8.10 ('venv': venv)",
   "language": "python",
   "name": "python3"
  },
  "language_info": {
   "codemirror_mode": {
    "name": "ipython",
    "version": 3
   },
   "file_extension": ".py",
   "mimetype": "text/x-python",
   "name": "python",
   "nbconvert_exporter": "python",
   "pygments_lexer": "ipython3",
   "version": "3.8.10"
  },
  "orig_nbformat": 4
 },
 "nbformat": 4,
 "nbformat_minor": 2
}
